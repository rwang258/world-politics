{
 "cells": [
  {
   "cell_type": "code",
   "execution_count": 13,
   "id": "5f9ac2c5-84fb-40d8-93fa-93ec427c9dc4",
   "metadata": {},
   "outputs": [],
   "source": [
    "import pandas as pd\n",
    "import seaborn as sns\n",
    "import matplotlib.pyplot as plt\n",
    "from   sklearn.linear_model import LinearRegression, LogisticRegression\n",
    "import numpy as np"
   ]
  },
  {
   "cell_type": "markdown",
   "id": "7c2ed16b-3d9d-4928-a891-a59c61699f81",
   "metadata": {},
   "source": [
    "Values for survey_data were manually entered from the graph shown [here](https://www.pewresearch.org/global/database/indicator/24/country/us) and [here](https://www.pewresearch.org/global/2020/10/06/unfavorable-views-of-china-reach-historic-highs-in-many-countries/). Values for trade_data were manually entered from the data tables shown [here](https://www.census.gov/foreign-trade/balance/c5700.html). The ration of exports to imports were also manually calculated for each year."
   ]
  },
  {
   "cell_type": "code",
   "execution_count": 2,
   "id": "57ffd332-78ae-4a13-82f0-e76c7ac379a6",
   "metadata": {},
   "outputs": [],
   "source": [
    "#put survey data in a dataframe\n",
    "\n",
    "# columns, year, percent americans who hold unfavorable views towards china\n",
    "\n",
    "# each data point is going to be shifted back by one year. Since for the 2005 year, \n",
    "# we want the public opinion for 2006, and the trade deficit for 2005. That way,\n",
    "# we can analyze the relationship between the trade deficit and public opinion\n",
    "# accurately, since public opinion will only change after a certain period of lag\n",
    "# after the initial event.\n",
    "\n",
    "# initialize list of lists\n",
    "# next, shift all years back by one\n",
    "\n",
    "survey_data = [[2004, 35], [2005, 29], [2006, 39], [2007, 42], [2008, 38],\n",
    "               [2009, 36], [2010, 36], [2011, 40], [2012, 52], [2013, 55], \n",
    "               [2014, 54], [2015, 55], [2016, 47], [2017, 47], [2018, 60], [2019, 73]]\n",
    "\n",
    "# Create the pandas DataFrame\n",
    "survey_df = pd.DataFrame(survey_data, columns = ['year', 'percent_unfav'])\n"
   ]
  },
  {
   "cell_type": "code",
   "execution_count": 3,
   "id": "facd4e2a-b003-4931-918a-9d8a9fc71005",
   "metadata": {},
   "outputs": [],
   "source": [
    "# put trade data in a dataframe\n",
    "\n",
    "# columns, year, trade deficit for the us with china\n",
    "\n",
    "# may need to standardize this to account for things like inflation in the future\n",
    "\n",
    "# in millions (on a nominal basis)\n",
    "\n",
    "# initialize list of lists\n",
    "trade_data = [[2004, -162254.3], [2005, -202278.1], [2006, -234101.3], [2007, -258506.0], [2008, -268039.8], [2009, -226877.2],\n",
    "               [2010, -273041.6], [2011, -295249.7], [2012, -315102.5], [2013, -318683.8], [2014, -344817.7], \n",
    "               [2015, -367328.3], [2016, -346825.2], [2017, -375167.9], [2018, -418232.9], [2019, -344312.0]]\n",
    "\n",
    "# Create the pandas DataFrame\n",
    "trade_df = pd.DataFrame(trade_data, columns = ['year', 'balance'])\n",
    "\n",
    "# convert balance into trade deficit (which is how much more the us is importing from china than exporting\n",
    "trade_df['trade_deficit'] = trade_df['balance'] * -1\n"
   ]
  },
  {
   "cell_type": "code",
   "execution_count": 4,
   "id": "870ad659-698c-4894-9a0b-7730e0b29e8a",
   "metadata": {},
   "outputs": [],
   "source": [
    "df = trade_df.merge(survey_df, on='year')\n",
    "\n"
   ]
  },
  {
   "cell_type": "code",
   "execution_count": 5,
   "id": "70ee62df-bfa6-4ff2-a794-9e5293303eb9",
   "metadata": {},
   "outputs": [
    {
     "data": {
      "text/html": [
       "<div>\n",
       "<style scoped>\n",
       "    .dataframe tbody tr th:only-of-type {\n",
       "        vertical-align: middle;\n",
       "    }\n",
       "\n",
       "    .dataframe tbody tr th {\n",
       "        vertical-align: top;\n",
       "    }\n",
       "\n",
       "    .dataframe thead th {\n",
       "        text-align: right;\n",
       "    }\n",
       "</style>\n",
       "<table border=\"1\" class=\"dataframe\">\n",
       "  <thead>\n",
       "    <tr style=\"text-align: right;\">\n",
       "      <th></th>\n",
       "      <th>year</th>\n",
       "      <th>balance</th>\n",
       "      <th>trade_deficit</th>\n",
       "      <th>percent_unfav</th>\n",
       "    </tr>\n",
       "  </thead>\n",
       "  <tbody>\n",
       "    <tr>\n",
       "      <th>0</th>\n",
       "      <td>2004</td>\n",
       "      <td>-162254.3</td>\n",
       "      <td>162254.3</td>\n",
       "      <td>35</td>\n",
       "    </tr>\n",
       "    <tr>\n",
       "      <th>1</th>\n",
       "      <td>2005</td>\n",
       "      <td>-202278.1</td>\n",
       "      <td>202278.1</td>\n",
       "      <td>29</td>\n",
       "    </tr>\n",
       "    <tr>\n",
       "      <th>2</th>\n",
       "      <td>2006</td>\n",
       "      <td>-234101.3</td>\n",
       "      <td>234101.3</td>\n",
       "      <td>39</td>\n",
       "    </tr>\n",
       "    <tr>\n",
       "      <th>3</th>\n",
       "      <td>2007</td>\n",
       "      <td>-258506.0</td>\n",
       "      <td>258506.0</td>\n",
       "      <td>42</td>\n",
       "    </tr>\n",
       "    <tr>\n",
       "      <th>4</th>\n",
       "      <td>2008</td>\n",
       "      <td>-268039.8</td>\n",
       "      <td>268039.8</td>\n",
       "      <td>38</td>\n",
       "    </tr>\n",
       "    <tr>\n",
       "      <th>5</th>\n",
       "      <td>2009</td>\n",
       "      <td>-226877.2</td>\n",
       "      <td>226877.2</td>\n",
       "      <td>36</td>\n",
       "    </tr>\n",
       "    <tr>\n",
       "      <th>6</th>\n",
       "      <td>2010</td>\n",
       "      <td>-273041.6</td>\n",
       "      <td>273041.6</td>\n",
       "      <td>36</td>\n",
       "    </tr>\n",
       "    <tr>\n",
       "      <th>7</th>\n",
       "      <td>2011</td>\n",
       "      <td>-295249.7</td>\n",
       "      <td>295249.7</td>\n",
       "      <td>40</td>\n",
       "    </tr>\n",
       "    <tr>\n",
       "      <th>8</th>\n",
       "      <td>2012</td>\n",
       "      <td>-315102.5</td>\n",
       "      <td>315102.5</td>\n",
       "      <td>52</td>\n",
       "    </tr>\n",
       "    <tr>\n",
       "      <th>9</th>\n",
       "      <td>2013</td>\n",
       "      <td>-318683.8</td>\n",
       "      <td>318683.8</td>\n",
       "      <td>55</td>\n",
       "    </tr>\n",
       "    <tr>\n",
       "      <th>10</th>\n",
       "      <td>2014</td>\n",
       "      <td>-344817.7</td>\n",
       "      <td>344817.7</td>\n",
       "      <td>54</td>\n",
       "    </tr>\n",
       "    <tr>\n",
       "      <th>11</th>\n",
       "      <td>2015</td>\n",
       "      <td>-367328.3</td>\n",
       "      <td>367328.3</td>\n",
       "      <td>55</td>\n",
       "    </tr>\n",
       "    <tr>\n",
       "      <th>12</th>\n",
       "      <td>2016</td>\n",
       "      <td>-346825.2</td>\n",
       "      <td>346825.2</td>\n",
       "      <td>47</td>\n",
       "    </tr>\n",
       "    <tr>\n",
       "      <th>13</th>\n",
       "      <td>2017</td>\n",
       "      <td>-375167.9</td>\n",
       "      <td>375167.9</td>\n",
       "      <td>47</td>\n",
       "    </tr>\n",
       "    <tr>\n",
       "      <th>14</th>\n",
       "      <td>2018</td>\n",
       "      <td>-418232.9</td>\n",
       "      <td>418232.9</td>\n",
       "      <td>60</td>\n",
       "    </tr>\n",
       "    <tr>\n",
       "      <th>15</th>\n",
       "      <td>2019</td>\n",
       "      <td>-344312.0</td>\n",
       "      <td>344312.0</td>\n",
       "      <td>73</td>\n",
       "    </tr>\n",
       "  </tbody>\n",
       "</table>\n",
       "</div>"
      ],
      "text/plain": [
       "    year   balance  trade_deficit  percent_unfav\n",
       "0   2004 -162254.3       162254.3             35\n",
       "1   2005 -202278.1       202278.1             29\n",
       "2   2006 -234101.3       234101.3             39\n",
       "3   2007 -258506.0       258506.0             42\n",
       "4   2008 -268039.8       268039.8             38\n",
       "5   2009 -226877.2       226877.2             36\n",
       "6   2010 -273041.6       273041.6             36\n",
       "7   2011 -295249.7       295249.7             40\n",
       "8   2012 -315102.5       315102.5             52\n",
       "9   2013 -318683.8       318683.8             55\n",
       "10  2014 -344817.7       344817.7             54\n",
       "11  2015 -367328.3       367328.3             55\n",
       "12  2016 -346825.2       346825.2             47\n",
       "13  2017 -375167.9       375167.9             47\n",
       "14  2018 -418232.9       418232.9             60\n",
       "15  2019 -344312.0       344312.0             73"
      ]
     },
     "execution_count": 5,
     "metadata": {},
     "output_type": "execute_result"
    }
   ],
   "source": [
    "df"
   ]
  },
  {
   "cell_type": "code",
   "execution_count": 6,
   "id": "7b32d437-b39e-4673-98c7-54aa180f41a4",
   "metadata": {},
   "outputs": [
    {
     "data": {
      "image/png": "[encoded data removed]",
      "text/plain": [
       "<Figure size 432x288 with 1 Axes>"
      ]
     },
     "metadata": {
      "needs_background": "light"
     },
     "output_type": "display_data"
    }
   ],
   "source": [
    "# plot data\n",
    "sns.regplot(x='trade_deficit', y='percent_unfav', data=df);\n",
    "# plt.xlabel('sepal width (cm)')"
   ]
  },
  {
   "cell_type": "code",
   "execution_count": 7,
   "id": "52423cc1-62e0-4231-811e-4a24bdd53545",
   "metadata": {},
   "outputs": [],
   "source": [
    "# can also look into percent change the previous year, and see if china's popularity more influenced by a big \n",
    "# increase in deficit"
   ]
  },
  {
   "cell_type": "code",
   "execution_count": 8,
   "id": "f455a8ea-758b-4343-bdbc-e82fe60c3d1d",
   "metadata": {},
   "outputs": [
    {
     "data": {
      "text/html": [
       "<div>\n",
       "<style scoped>\n",
       "    .dataframe tbody tr th:only-of-type {\n",
       "        vertical-align: middle;\n",
       "    }\n",
       "\n",
       "    .dataframe tbody tr th {\n",
       "        vertical-align: top;\n",
       "    }\n",
       "\n",
       "    .dataframe thead th {\n",
       "        text-align: right;\n",
       "    }\n",
       "</style>\n",
       "<table border=\"1\" class=\"dataframe\">\n",
       "  <thead>\n",
       "    <tr style=\"text-align: right;\">\n",
       "      <th></th>\n",
       "      <th>trade_deficit</th>\n",
       "      <th>percent_unfav</th>\n",
       "    </tr>\n",
       "  </thead>\n",
       "  <tbody>\n",
       "    <tr>\n",
       "      <th>trade_deficit</th>\n",
       "      <td>1.000000</td>\n",
       "      <td>0.778956</td>\n",
       "    </tr>\n",
       "    <tr>\n",
       "      <th>percent_unfav</th>\n",
       "      <td>0.778956</td>\n",
       "      <td>1.000000</td>\n",
       "    </tr>\n",
       "  </tbody>\n",
       "</table>\n",
       "</div>"
      ],
      "text/plain": [
       "               trade_deficit  percent_unfav\n",
       "trade_deficit       1.000000       0.778956\n",
       "percent_unfav       0.778956       1.000000"
      ]
     },
     "execution_count": 8,
     "metadata": {},
     "output_type": "execute_result"
    }
   ],
   "source": [
    "# measure correlation coefficient\n",
    "df.loc[:, ['trade_deficit', 'percent_unfav']].corr(method='pearson')\n"
   ]
  },
  {
   "cell_type": "code",
   "execution_count": 9,
   "id": "b01bc298-86ef-4f06-a7ec-3146ad3bd9e6",
   "metadata": {},
   "outputs": [],
   "source": [
    "# evaluate the significance of the observed relationship between the two variables using a permutation test\n",
    "\n"
   ]
  },
  {
   "cell_type": "code",
   "execution_count": 10,
   "id": "d201ec80-4a74-4bed-bc8b-1fb34fff4eaf",
   "metadata": {},
   "outputs": [],
   "source": [
    "def permute(input_array):\n",
    "    # shuffle is inplace, so copy to preserve input\n",
    "    permuted = input_array.copy().values #convert to numpy array, avoiding warning\n",
    "    np.random.shuffle(permuted)\n",
    "    return pd.Series(permuted) # convert back to pandas"
   ]
  },
  {
   "cell_type": "code",
   "execution_count": 11,
   "id": "db67134f-b881-4a92-9b98-b9f037812fb9",
   "metadata": {},
   "outputs": [],
   "source": [
    "def plot_model_line(df, model, x, is_resampled=True):\n",
    "    '''\n",
    "    Takes a dataframe and a fitted model\n",
    "    Plots a line of best fit to the data\n",
    "    '''\n",
    "    if is_resampled:\n",
    "        color=\"grey\"\n",
    "        alpha=0.1\n",
    "    else:\n",
    "        color=\"steelblue\"\n",
    "        alpha=0.7\n",
    "    plt.plot(df[x], df[x] * model.coef_[0] + model.intercept_, color=color, alpha=alpha)"
   ]
  },
  {
   "cell_type": "code",
   "execution_count": 25,
   "id": "5f5c3348-3f05-4fcd-95fc-cc707fa3e258",
   "metadata": {},
   "outputs": [
    {
     "data": {
      "image/png": "[encoded data removed]",
      "text/plain": [
       "<Figure size 432x288 with 1 Axes>"
      ]
     },
     "metadata": {
      "needs_background": "light"
     },
     "output_type": "display_data"
    }
   ],
   "source": [
    "# plot true data\n",
    "plt.scatter(df['trade_deficit'], df['percent_unfav'])\n",
    "\n",
    "# plot 500 iterations of models on permuted data\n",
    "for i in range(500):\n",
    "    permuted_model = LinearRegression().fit(df[['trade_deficit']], permute(df['percent_unfav']))\n",
    "    plot_model_line(df, permuted_model, 'trade_deficit')\n",
    "\n",
    "# model true data and plot\n",
    "model1 = LinearRegression().fit(df[['trade_deficit']], df['percent_unfav'])\n",
    "plot_model_line(df, model1, 'trade_deficit', is_resampled=False)\n",
    "plt.xlabel('trade_deficit')\n",
    "plt.ylabel('percent_unfav')\n",
    "plt.show()"
   ]
  },
  {
   "cell_type": "code",
   "execution_count": 24,
   "id": "69d9c125-3b1b-435d-970f-ff551e493596",
   "metadata": {},
   "outputs": [
    {
     "name": "stdout",
     "output_type": "stream",
     "text": [
      "Fraction of permuted slopes more extreme than observed slopes: 0.001\n"
     ]
    }
   ],
   "source": [
    "# what fraction of permuted (null hyopthesis) slopes are greater than our observed slope?\n",
    "steeper_slopes = 0\n",
    "n_permutations = 1000\n",
    "permuted_slopes = np.zeros(n_permutations) # preallocate array of correct size\n",
    "\n",
    "for i in range(n_permutations):\n",
    "    permuted_model = LinearRegression().fit(df[['trade_deficit']], permute(df['percent_unfav']))\n",
    "    \n",
    "    permuted_slopes[i] = permuted_model.coef_[0]\n",
    "    \n",
    "    if np.abs(permuted_model.coef_[0]) > np.abs(model1.coef_):\n",
    "        steeper_slopes += 1\n",
    "    \n",
    "print(f'Fraction of permuted slopes more extreme than observed slopes: {steeper_slopes / n_permutations}')"
   ]
  },
  {
   "cell_type": "code",
   "execution_count": null,
   "id": "65a4d437-8e45-49fd-813c-226e8e1eba70",
   "metadata": {},
   "outputs": [],
   "source": []
  }
 ],
 "metadata": {
  "kernelspec": {
   "display_name": "Python 3 (ipykernel)",
   "language": "python",
   "name": "python3"
  },
  "language_info": {
   "codemirror_mode": {
    "name": "ipython",
    "version": 3
   },
   "file_extension": ".py",
   "mimetype": "text/x-python",
   "name": "python",
   "nbconvert_exporter": "python",
   "pygments_lexer": "ipython3",
   "version": "3.8.3"
  }
 },
 "nbformat": 4,
 "nbformat_minor": 5
}
